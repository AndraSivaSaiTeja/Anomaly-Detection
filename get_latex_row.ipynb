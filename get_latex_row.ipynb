{
 "cells": [
  {
   "cell_type": "code",
   "execution_count": 88,
   "metadata": {},
   "outputs": [],
   "source": [
    "import csv\n",
    "import numpy as np\n"
   ]
  },
  {
   "cell_type": "code",
   "execution_count": 89,
   "metadata": {},
   "outputs": [],
   "source": [
    "csv_path = '/home/ai22mtech11001/Siva/other/RD++/rd++_unified_resnet18_metrics_results_-10.csv'\n",
    "\n",
    "required_order = ['cable', 'carpet','bottle','hazelnut','leather','capsule','grid'\\\n",
    "                  ,'pill','transistor','metal_nut','screw','toothbrush','zipper','tile','wood']\n",
    "\n",
    "output = ''\n",
    "average = 0\n",
    "for c in required_order:\n",
    "    with open(csv_path, mode ='r')as file:\n",
    "      csvFile = csv.reader(file)\n",
    "      #print(c)\n",
    "      for line in csvFile:\n",
    "          if(line[0]==c):\n",
    "              value = float(line[3])#line[1] for pixel_auroc,line[2] for sample_auroc,line[3] for pixel_aupro\n",
    "              average = average + value\n",
    "              #print(line[0],c)\n",
    "              output = output + str(value) + \"&\" \n",
    "average = average/15\n",
    "output = output + str(np.round(average,4))"
   ]
  },
  {
   "cell_type": "code",
   "execution_count": 90,
   "metadata": {},
   "outputs": [
    {
     "name": "stdout",
     "output_type": "stream",
     "text": [
      "0.2069&0.2244&0.1801&0.1786&0.1543&0.2736&0.1599&0.1809&0.2698&0.2711&0.4214&0.3018&0.1478&0.1781&0.1802&0.2219\n"
     ]
    }
   ],
   "source": [
    "print(output)"
   ]
  }
 ],
 "metadata": {
  "kernelspec": {
   "display_name": "siva",
   "language": "python",
   "name": "python3"
  },
  "language_info": {
   "codemirror_mode": {
    "name": "ipython",
    "version": 3
   },
   "file_extension": ".py",
   "mimetype": "text/x-python",
   "name": "python",
   "nbconvert_exporter": "python",
   "pygments_lexer": "ipython3",
   "version": "3.11.3"
  },
  "orig_nbformat": 4
 },
 "nbformat": 4,
 "nbformat_minor": 2
}
